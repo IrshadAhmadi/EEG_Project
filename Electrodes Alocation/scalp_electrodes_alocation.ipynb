{
 "cells": [
  {
   "cell_type": "code",
   "execution_count": 2,
   "id": "6f66d126-5646-4d70-8137-fb2f32f5b150",
   "metadata": {},
   "outputs": [
    {
     "data": {
      "text/plain": [
       "'filtered_channels.loc'"
      ]
     },
     "execution_count": 2,
     "metadata": {},
     "output_type": "execute_result"
    }
   ],
   "source": [
    "# Read the content of the .loc file and filter for specific channels\n",
    "input_file_path = 'CAU-10-20-Cap19.loc'\n",
    "output_file_path = 'filtered_channels.loc'\n",
    "\n",
    "# List of channels to keep\n",
    "channels_to_keep = ['F8', 'F4', 'F3', 'F7']\n",
    "\n",
    "# Read the original .loc file and filter the lines\n",
    "with open(input_file_path, 'r') as file:\n",
    "    lines = file.readlines()\n",
    "\n",
    "# Write the filtered content to a new .loc file\n",
    "with open(output_file_path, 'w') as file:\n",
    "    for line in lines:\n",
    "        if any(channel in line for channel in channels_to_keep):\n",
    "            file.write(line)\n",
    "\n",
    "output_file_path\n"
   ]
  },
  {
   "cell_type": "code",
   "execution_count": null,
   "id": "edf11e3d-6a79-4d18-bed3-7ca7af3ecf44",
   "metadata": {},
   "outputs": [],
   "source": []
  }
 ],
 "metadata": {
  "kernelspec": {
   "display_name": "Python 3 (ipykernel)",
   "language": "python",
   "name": "python3"
  },
  "language_info": {
   "codemirror_mode": {
    "name": "ipython",
    "version": 3
   },
   "file_extension": ".py",
   "mimetype": "text/x-python",
   "name": "python",
   "nbconvert_exporter": "python",
   "pygments_lexer": "ipython3",
   "version": "3.8.5"
  }
 },
 "nbformat": 4,
 "nbformat_minor": 5
}
